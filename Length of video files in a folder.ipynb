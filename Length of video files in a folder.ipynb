{
 "cells": [
  {
   "cell_type": "code",
   "execution_count": 5,
   "metadata": {},
   "outputs": [
    {
     "name": "stdout",
     "output_type": "stream",
     "text": [
      "Enter the DirectoryD:\\downloads\\Study-Material\\Deep Learning A-Z™ Hands-On Artificial Neural Networks\n",
      "Total Time : 1312 minutes and : 4.0 seconds\n",
      "Total Time : 21 Hours and : 52.0 Minutes\n"
     ]
    }
   ],
   "source": [
    "import os\n",
    "from pymediainfo import MediaInfo\n",
    "# directory = \"D:\\downloads\\Study-Material\\Deep Learning A-Z™ Hands-On Artificial Neural Networks\"\n",
    "directory=str(input(\"Enter the Directory\"))\n",
    "\n",
    "Total_time=0\n",
    "\n",
    "if(os.path.exists(directory)):   \n",
    "    for (root,dirs,files) in os.walk(directory, topdown=True):\n",
    "        for  file in files:\n",
    "            if file.endswith(('.mp4', '.mkv', '.avi','.flv','.3gp','.mxf','.svi','.webm')): \n",
    "                val=os.path.join(root, file)\n",
    "                media_info = MediaInfo.parse(val)\n",
    "                duration_in_ms = media_info.tracks[0].duration\n",
    "                Total_time=Total_time+duration_in_ms/(1000*60)  \n",
    "\n",
    "    a=int(Total_time)\n",
    "    b=(Total_time-a)*60\n",
    "    b=round(b,0)\n",
    "    Total_time=Total_time/60\n",
    "    c=int(Total_time)\n",
    "    d=(Total_time-c)*60\n",
    "    d=round(d,0)\n",
    "    print(\"Total Time : {} minutes and : {} seconds\".format(a,b))\n",
    "    print(\"Total Time : {} Hours and : {} Minutes\".format(c,d))\n",
    "else:\n",
    "    print(\"Invalid Directory\")"
   ]
  },
  {
   "cell_type": "code",
   "execution_count": null,
   "metadata": {},
   "outputs": [],
   "source": []
  }
 ],
 "metadata": {
  "kernelspec": {
   "display_name": "Python 3",
   "language": "python",
   "name": "python3"
  },
  "language_info": {
   "codemirror_mode": {
    "name": "ipython",
    "version": 3
   },
   "file_extension": ".py",
   "mimetype": "text/x-python",
   "name": "python",
   "nbconvert_exporter": "python",
   "pygments_lexer": "ipython3",
   "version": "3.6.8"
  }
 },
 "nbformat": 4,
 "nbformat_minor": 2
}
